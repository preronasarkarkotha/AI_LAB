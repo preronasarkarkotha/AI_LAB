{
  "cells": [
    {
      "cell_type": "markdown",
      "id": "6ab4e2fe",
      "metadata": {
        "id": "6ab4e2fe"
      },
      "source": [
        "# Lab Work\n",
        "\n",
        "1. Shift Left k Cells\n",
        "\n",
        "Consider an array named source. Write a method/function named shiftLeft( source, k) that shifts all the elements of the source array to the left by 'k' positions. You must execute the method by passing an array and number of cells to be shifted. After calling the method, print the array to show whether the elements have been shifted properly.\n",
        "\n",
        "Example:\n",
        "\n",
        "source=[10,20,30,40,50,60]\n",
        "\n",
        "shiftLeft(source,3)\n",
        "\n",
        "After calling shiftLeft(source,3), printing the array should give the output as:\n",
        "\n",
        "[ 40, 50, 60, 0, 0, 0 ]\n",
        "\n",
        "2. Rotate Left k cells\n",
        "\n",
        "Consider an array named source. Write a method/function named rotateLeft( source, k)\n",
        "that rotates all the elements of the source array to the left by 'k' positions. You must\n",
        "execute the method by passing an array and number of cells to be shifted. After calling\n",
        "the method, print the array to show whether the elements have been shifted properly.\n",
        "\n",
        "Example:\n",
        "\n",
        "source=[10,20,30,40,50,60]\n",
        "\n",
        "rotateLeft(source,3)\n",
        "\n",
        "After calling rotateLeft(source,3), printing the array should give the output as:\n",
        "\n",
        "[ 40, 50, 60, 10, 20, 30]\n",
        "\n",
        "3. Remove an element from an array\n",
        "\n",
        "Consider an array named source. Write a method/function named remove( source,\n",
        "size, idx) that removes the element in index idx of the source array. You must execute\n",
        "the method by passing an array, its size and the idx( that is the index of the element to\n",
        "be removed). After calling the method, print the array to show whether the element of\n",
        "that particular index has been removed properly.\n",
        "\n",
        "Example:\n",
        "\n",
        "source=[10,20,30,40,50,0,0]\n",
        "\n",
        "remove(source,5,2)\n",
        "\n",
        "After calling remove(source,5,2) , printing the array should give the output as:\n",
        "\n",
        "[ 10,20,40,50,0,0,0]\n",
        "\n",
        "4. Remove all occurrences of a particular element from an array\n",
        "\n",
        "Consider an array named source. Write a method/function named removeAll( source,\n",
        "size, element) that removes all the occurrences of the given element in the source\n",
        "array. You must execute the method by passing an array, its size and the element to be\n",
        "removed. After calling the method, print the array to show whether all the occurrences\n",
        "of the element have been removed properly.\n",
        "\n",
        "Example:\n",
        "\n",
        "source=[10,2,30,2,50,2,2,0,0]\n",
        "\n",
        "removeAll(source,7,2)\n",
        "\n",
        "After calling removeAll(source,7,2), all the occurrences of 2 must be removed. Printing\n",
        "the array afterwards should give the output as:\n",
        "\n",
        "[ 10,30,50,0,0,0,0,0,0]\n",
        "\n",
        "\n"
      ]
    },
    {
      "cell_type": "markdown",
      "id": "5b8198b5",
      "metadata": {
        "id": "5b8198b5"
      },
      "source": []
    },
    {
      "cell_type": "markdown",
      "id": "55e6ff05",
      "metadata": {
        "id": "55e6ff05"
      },
      "source": [
        "Shift Left k Cells\n",
        "Consider an array named source. Write a method/function named shiftLeft( source, k) that shifts all the elements of the source array to the left by 'k' positions. You must execute the method by passing an array and number of cells to be shifted. After calling the method, print the array to show whether the elements have been shifted properly.\n",
        "\n",
        "Example:\n",
        "\n",
        "source=[10,20,30,40,50,60]\n",
        "\n",
        "shiftLeft(source,3)\n",
        "\n",
        "After calling shiftLeft(source,3), printing the array should give the output as:\n",
        "\n",
        "[ 40, 50, 60, 0, 0, 0 ]"
      ]
    },
    {
      "cell_type": "code",
      "execution_count": null,
      "id": "78e88d6e",
      "metadata": {
        "colab": {
          "base_uri": "https://localhost:8080/"
        },
        "id": "78e88d6e",
        "outputId": "4a8d7abc-63ee-41c7-8d9c-7846bb850d42"
      },
      "outputs": [
        {
          "output_type": "stream",
          "name": "stdout",
          "text": [
            "[20, 30, 40, 50, 0]\n"
          ]
        }
      ],
      "source": [
        "def leftShift(List,k):\n",
        "    newList=[20,30,40,50,0]\n",
        "\n",
        "\n",
        "    return newList\n",
        "\n",
        "List1=[10,20,30,40,50]\n",
        "L1=leftShift(List1,1)\n",
        "print(L1)"
      ]
    },
    {
      "cell_type": "code",
      "execution_count": null,
      "id": "bdde14fa",
      "metadata": {
        "colab": {
          "base_uri": "https://localhost:8080/"
        },
        "id": "bdde14fa",
        "outputId": "5be0c2be-98b8-47c2-cb25-ad46847061c7"
      },
      "outputs": [
        {
          "output_type": "stream",
          "name": "stdout",
          "text": [
            "[20, 30, 40, 50, 10]\n"
          ]
        }
      ],
      "source": [
        "def leftRoate(List,k):\n",
        "    newList=[20,30,40,50,10]\n",
        "\n",
        "\n",
        "    return newList\n",
        "\n",
        "List1=[10,20,30,40,50]\n",
        "L1=leftRoate(List1,1)\n",
        "print(L1)"
      ]
    },
    {
      "cell_type": "code",
      "execution_count": null,
      "id": "6a4fa77e",
      "metadata": {
        "colab": {
          "base_uri": "https://localhost:8080/"
        },
        "id": "6a4fa77e",
        "outputId": "1f30f79f-914e-4a30-a175-f5a57fbb8773"
      },
      "outputs": [
        {
          "output_type": "stream",
          "name": "stdout",
          "text": [
            "[10, 20, 40, 50, 0, 0, 0]\n"
          ]
        }
      ],
      "source": [
        "def remove(source, size, idx):\n",
        "    for i in range(idx, size - 1):\n",
        "        source[i] = source[i + 1]\n",
        "\n",
        "    source[size - 1] = 0  # Set the last element to 0\n",
        "    print(source)\n",
        "\n",
        "# Example usage:\n",
        "source = [10, 20, 30, 40, 50, 0, 0]\n",
        "remove(source, 5, 2)\n"
      ]
    },
    {
      "cell_type": "code",
      "source": [
        "def removeAll(source, size, element):\n",
        "    # Create a new list to store the modified array\n",
        "    A = []\n",
        "\n",
        "    # Iterate through the source array\n",
        "    for i in range(size):\n",
        "        # If the element is not equal to the specified element, add it to the result list\n",
        "        if source[i] != element:\n",
        "            A.append(source[i])\n",
        "\n",
        "    # Update the source array with the result list\n",
        "    for i in range(len(A)):\n",
        "        source[i] = A[i]\n",
        "\n",
        "    # Fill the remaining elements of the source array with 0\n",
        "    for i in range(len(A), size):\n",
        "        source[i] = 0\n",
        "\n",
        "    # Print the modified array\n",
        "    print(source)\n",
        "\n",
        "# Example usage:\n",
        "source = [10, 2, 30, 2, 50, 2, 2, 0, 0]\n",
        "removeAll(source, 9, 2)\n"
      ],
      "metadata": {
        "colab": {
          "base_uri": "https://localhost:8080/"
        },
        "id": "YuGl_NC__lBF",
        "outputId": "d017643f-c036-46ad-e6fe-6776f09a1941"
      },
      "id": "YuGl_NC__lBF",
      "execution_count": null,
      "outputs": [
        {
          "output_type": "stream",
          "name": "stdout",
          "text": [
            "[10, 30, 50, 0, 0, 0, 0, 0, 0]\n"
          ]
        }
      ]
    },
    {
      "cell_type": "code",
      "source": [
        "def shiftLeft(source, k):\n",
        "    length = len(source)\n",
        "    # Shift the elements to the left by k positions\n",
        "    for i in range(length - k):\n",
        "        source[i] = source[i + k]\n",
        "    # Fill the remaining positions with 0\n",
        "    for i in range(length - k, length):\n",
        "        source[i] = 0\n",
        "\n",
        "# Example usage:\n",
        "source = [10, 20, 30, 40, 50, 60]\n",
        "shiftLeft(source, 3)\n",
        "print(source)\n"
      ],
      "metadata": {
        "colab": {
          "base_uri": "https://localhost:8080/"
        },
        "id": "Ezf4d8nvEgLO",
        "outputId": "480e3a39-19c6-4b54-c7df-e51ba22596e8"
      },
      "id": "Ezf4d8nvEgLO",
      "execution_count": null,
      "outputs": [
        {
          "output_type": "stream",
          "name": "stdout",
          "text": [
            "[40, 50, 60, 0, 0, 0]\n"
          ]
        }
      ]
    }
  ],
  "metadata": {
    "kernelspec": {
      "display_name": "Python 3 (ipykernel)",
      "language": "python",
      "name": "python3"
    },
    "language_info": {
      "codemirror_mode": {
        "name": "ipython",
        "version": 3
      },
      "file_extension": ".py",
      "mimetype": "text/x-python",
      "name": "python",
      "nbconvert_exporter": "python",
      "pygments_lexer": "ipython3",
      "version": "3.11.4"
    },
    "colab": {
      "provenance": []
    }
  },
  "nbformat": 4,
  "nbformat_minor": 5
}